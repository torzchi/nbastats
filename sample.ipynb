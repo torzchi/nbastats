{
 "cells": [
  {
   "cell_type": "code",
   "execution_count": 2,
   "id": "initial_id",
   "metadata": {
    "collapsed": true,
    "ExecuteTime": {
     "end_time": "2024-04-03T16:26:48.269980Z",
     "start_time": "2024-04-03T16:26:46.055993Z"
    }
   },
   "outputs": [],
   "source": [
    "import pandas as pd\n",
    "import matplotlib.pyplot as plt\n",
    "\n",
    "df = pd.read_csv('nbastats.csv')\n"
   ]
  },
  {
   "cell_type": "code",
   "outputs": [
    {
     "data": {
      "text/plain": "<Figure size 640x480 with 1 Axes>",
      "image/png": "[encoded data removed]"
     },
     "metadata": {},
     "output_type": "display_data"
    }
   ],
   "source": [
    "plt.hist(df['PTS'], bins=10)\n",
    "plt.title('Histogram of Numerical Column')\n",
    "plt.xlabel('Value')\n",
    "plt.ylabel('Frequency')\n",
    "plt.show()"
   ],
   "metadata": {
    "collapsed": false,
    "ExecuteTime": {
     "end_time": "2024-04-02T20:32:25.644387Z",
     "start_time": "2024-04-02T20:32:25.409338Z"
    }
   },
   "id": "3865c7fd232df5d0",
   "execution_count": 6
  },
  {
   "cell_type": "code",
   "outputs": [
    {
     "name": "stdout",
     "output_type": "stream",
     "text": [
      "Missing values:\n",
      " Rk           0\n",
      "Player       0\n",
      "Pos          0\n",
      "Age          0\n",
      "Tm           0\n",
      "G            0\n",
      "GS           0\n",
      "MP           0\n",
      "FG           0\n",
      "FGA          0\n",
      "FG%         88\n",
      "3P           0\n",
      "3PA          0\n",
      "3P%       2198\n",
      "2P           0\n",
      "2PA          0\n",
      "2P%        154\n",
      "eFG%        88\n",
      "FT           0\n",
      "FTA          0\n",
      "FT%        749\n",
      "ORB          0\n",
      "DRB          0\n",
      "TRB          0\n",
      "AST          0\n",
      "STL          0\n",
      "BLK          0\n",
      "TOV          0\n",
      "PF           0\n",
      "PTS          0\n",
      "Season       0\n",
      "MVP          0\n",
      "dtype: int64\n"
     ]
    }
   ],
   "source": [
    "missing_values = df.isnull().sum()\n",
    "print(\"Missing values:\\n\", missing_values)"
   ],
   "metadata": {
    "collapsed": false,
    "ExecuteTime": {
     "end_time": "2024-04-02T20:35:27.109838Z",
     "start_time": "2024-04-02T20:35:27.095844Z"
    }
   },
   "id": "1b5be9f673f6e248",
   "execution_count": 7
  },
  {
   "cell_type": "code",
   "outputs": [],
   "source": [
    "df['FG%'].fillna(0, inplace=True)\n",
    "df['3P%'].fillna(0, inplace=True)\n",
    "df['2P%'].fillna(0, inplace=True)\n",
    "df['eFG%'].fillna(0, inplace=True)\n",
    "df['FT%'].fillna(0, inplace=True)"
   ],
   "metadata": {
    "collapsed": false,
    "ExecuteTime": {
     "end_time": "2024-04-03T16:27:13.892112Z",
     "start_time": "2024-04-03T16:27:13.851104Z"
    }
   },
   "id": "a703facbb336bca5",
   "execution_count": 4
  },
  {
   "cell_type": "code",
   "outputs": [
    {
     "name": "stdout",
     "output_type": "stream",
     "text": [
      "Missing values:\n",
      " Rk        0\n",
      "Player    0\n",
      "Pos       0\n",
      "Age       0\n",
      "Tm        0\n",
      "G         0\n",
      "GS        0\n",
      "MP        0\n",
      "FG        0\n",
      "FGA       0\n",
      "FG%       0\n",
      "3P        0\n",
      "3PA       0\n",
      "3P%       0\n",
      "2P        0\n",
      "2PA       0\n",
      "2P%       0\n",
      "eFG%      0\n",
      "FT        0\n",
      "FTA       0\n",
      "FT%       0\n",
      "ORB       0\n",
      "DRB       0\n",
      "TRB       0\n",
      "AST       0\n",
      "STL       0\n",
      "BLK       0\n",
      "TOV       0\n",
      "PF        0\n",
      "PTS       0\n",
      "Season    0\n",
      "MVP       0\n",
      "dtype: int64\n"
     ]
    }
   ],
   "source": [
    "missing_values = df.isnull().sum()\n",
    "print(\"Missing values:\\n\", missing_values)"
   ],
   "metadata": {
    "collapsed": false,
    "ExecuteTime": {
     "end_time": "2024-04-03T17:27:03.353439Z",
     "start_time": "2024-04-03T17:27:03.340438Z"
    }
   },
   "id": "3e92d200ea5e45aa",
   "execution_count": 5
  },
  {
   "cell_type": "code",
   "outputs": [],
   "source": [],
   "metadata": {
    "collapsed": false
   },
   "id": "d73062d70a9635d2"
  }
 ],
 "metadata": {
  "kernelspec": {
   "display_name": "Python 3",
   "language": "python",
   "name": "python3"
  },
  "language_info": {
   "codemirror_mode": {
    "name": "ipython",
    "version": 2
   },
   "file_extension": ".py",
   "mimetype": "text/x-python",
   "name": "python",
   "nbconvert_exporter": "python",
   "pygments_lexer": "ipython2",
   "version": "2.7.6"
  }
 },
 "nbformat": 4,
 "nbformat_minor": 5
}
